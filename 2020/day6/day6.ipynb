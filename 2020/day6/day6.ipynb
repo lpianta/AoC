{
 "metadata": {
  "language_info": {
   "codemirror_mode": {
    "name": "ipython",
    "version": 3
   },
   "file_extension": ".py",
   "mimetype": "text/x-python",
   "name": "python",
   "nbconvert_exporter": "python",
   "pygments_lexer": "ipython3",
   "version": "3.8.6-final"
  },
  "orig_nbformat": 2,
  "kernelspec": {
   "name": "python38664bita2c3b62c36c84dcba56bbed418361bd6",
   "display_name": "Python 3.8.6 64-bit"
  }
 },
 "nbformat": 4,
 "nbformat_minor": 2,
 "cells": [
  {
   "cell_type": "code",
   "execution_count": 158,
   "metadata": {
    "tags": []
   },
   "outputs": [
    {
     "output_type": "stream",
     "name": "stdout",
     "text": [
      "6630\n"
     ]
    }
   ],
   "source": [
    "f = open(\"day6input.txt\", \"r\")\n",
    "custom_forms = f.read()\n",
    "\n",
    "grps = custom_forms.replace(\"\\n\", \" \").split(\"  \")\n",
    "answer_sum = 0\n",
    "for grp_answer in grps:\n",
    "    diff_answ = []\n",
    "    for c in grp_answer:\n",
    "        if c != \" \":\n",
    "            if c not in diff_answ:\n",
    "                diff_answ.append(c)\n",
    "            \n",
    "    answer_sum += len(diff_answ)\n",
    "print(answer_sum)\n",
    "\n",
    "f.close()"
   ]
  }
 ]
}