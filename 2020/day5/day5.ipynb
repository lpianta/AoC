{
 "metadata": {
  "language_info": {
   "codemirror_mode": {
    "name": "ipython",
    "version": 3
   },
   "file_extension": ".py",
   "mimetype": "text/x-python",
   "name": "python",
   "nbconvert_exporter": "python",
   "pygments_lexer": "ipython3",
   "version": "3.8.6-final"
  },
  "orig_nbformat": 2,
  "kernelspec": {
   "name": "python38664bita2c3b62c36c84dcba56bbed418361bd6",
   "display_name": "Python 3.8.6 64-bit"
  }
 },
 "nbformat": 4,
 "nbformat_minor": 2,
 "cells": [
  {
   "cell_type": "code",
   "execution_count": 2,
   "metadata": {
    "tags": []
   },
   "outputs": [
    {
     "output_type": "stream",
     "name": "stdout",
     "text": [
      "997\n"
     ]
    }
   ],
   "source": [
    "f = open(\"day5input.txt\", \"r\")\n",
    "text = f.read()\n",
    "boaridng_pass = text.split(\"\\n\")\n",
    "seat_id_list = []\n",
    "\n",
    "for i in boaridng_pass:\n",
    "    rrange_row = 128\n",
    "    mmin_row = 0\n",
    "    mmax_row = 127\n",
    "    row = 0\n",
    "    rrange_col = 8\n",
    "    mmin_col = 0\n",
    "    mmax_col = 7\n",
    "    col = 0\n",
    "    for char in i:\n",
    "        if char == \"F\":\n",
    "            rrange_row //= 2\n",
    "            mmax_row = mmin_row + rrange_row -1\n",
    "            #print(mmax_row)  \n",
    "        elif char == \"B\":\n",
    "            rrange_row //= 2\n",
    "            mmin_row = mmax_row - rrange_row + 1\n",
    "            #print(mmin_row)\n",
    "        if mmin_row == mmax_row:\n",
    "            row = mmax_row\n",
    "        if char == \"L\":\n",
    "            rrange_col //= 2\n",
    "            mmax_col = mmin_col + rrange_col - 1\n",
    "        elif char == \"R\":\n",
    "            rrange_col //= 2\n",
    "            mmin_col = mmax_col - rrange_col + 1\n",
    "        if mmin_col == mmax_col:\n",
    "            col = mmax_col\n",
    "    seat_id = (row * 8) + 5\n",
    "    seat_id_list.append(seat_id)\n",
    "    mmax_id = max(seat_id_list)\n",
    "\n",
    "print(mmax_id)\n",
    "\n",
    "\n",
    "\n"
   ]
  }
 ]
}